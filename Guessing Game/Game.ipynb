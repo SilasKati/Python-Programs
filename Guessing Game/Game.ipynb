{
 "cells": [
  {
   "cell_type": "code",
   "execution_count": 14,
   "metadata": {},
   "outputs": [
    {
     "name": "stdout",
     "output_type": "stream",
     "text": [
      "Guess the EVEN numbers\n",
      "You have 10 tries to guess. Begin the GAME...\n",
      "Try 1 : 2\n",
      "Try 2 : 4\n",
      "Try 3 : 6\n",
      "Try 4 : 8\n",
      "Try 5 : 10\n",
      "Try 6 : 12\n",
      "Try 7 : 14\n",
      "Try 8 : 77\n",
      "Try 9 : 89\n",
      "Try 10 : 54\n",
      "You WON the game...Congratulations...!!!\n",
      "Original list = [16, 18, 20]\n",
      "Guessed correctly = [2, 4, 6, 8, 10, 12, 14]\n"
     ]
    }
   ],
   "source": [
    "a = [2 , 4 , 6 , 8 , 10 , 12 , 14 , 16 , 18 , 20]\n",
    "c = []\n",
    "print(\"Guess the EVEN numbers\")\n",
    "print(\"You have 10 tries to guess. Begin the GAME...\")\n",
    "for i in range(0,10):\n",
    "    b = int(input('Try {} : '.format(i+1)))\n",
    "    #print(b)\n",
    "    if b in a:\n",
    "        #print(b)\n",
    "        c.append(b)\n",
    "        #print(c)\n",
    "        a.remove(b)\n",
    "        #print(a)\n",
    "        \n",
    "if len(a) < len(c):\n",
    "    print(\"You WON the game...Congratulations...!!!\")\n",
    "    \n",
    "else:\n",
    "    print(\"You LOST the game...Try again...!!!\")\n",
    "    \n",
    "print(\"Original list = {}\".format(a))\n",
    "print(\"Guessed correctly = {}\".format(c))"
   ]
  },
  {
   "cell_type": "code",
   "execution_count": null,
   "metadata": {},
   "outputs": [],
   "source": []
  }
 ],
 "metadata": {
  "kernelspec": {
   "display_name": "Python 3",
   "language": "python",
   "name": "python3"
  },
  "language_info": {
   "codemirror_mode": {
    "name": "ipython",
    "version": 3
   },
   "file_extension": ".py",
   "mimetype": "text/x-python",
   "name": "python",
   "nbconvert_exporter": "python",
   "pygments_lexer": "ipython3",
   "version": "3.7.3"
  }
 },
 "nbformat": 4,
 "nbformat_minor": 2
}
