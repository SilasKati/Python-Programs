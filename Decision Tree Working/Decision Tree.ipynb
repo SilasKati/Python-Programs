{
 "cells": [
  {
   "cell_type": "code",
   "execution_count": 7,
   "metadata": {},
   "outputs": [],
   "source": [
    "from sklearn import tree"
   ]
  },
  {
   "cell_type": "code",
   "execution_count": 11,
   "metadata": {},
   "outputs": [
    {
     "name": "stdout",
     "output_type": "stream",
     "text": [
      "Enter features to guess: \"Features format: [RAM, Cam, Screen, Cost]\"\n",
      "5 13 7 1000\n",
      "['samsung']\n"
     ]
    }
   ],
   "source": [
    "#Features format: [RAM, Cam, Screen, Cost]\n",
    "f = [[4,12,6.0,20000],[6,12,5.5,12000], [6,16,6.1,23000],[8,16,6.2,45000],[4,16,5.5,17000]]\n",
    "l = ['samsung','apple','huawei','apple','samsung']\n",
    "c = tree.DecisionTreeClassifier()\n",
    "t = c.fit(f,l)\n",
    "print('Enter features to guess: \"Features format: [RAM, Cam, Screen, Cost]\"')\n",
    "str1 = input()\n",
    "str1 = str1.split()\n",
    "str2 = list(map(float,str1))\n",
    "r = t.predict([str2])\n",
    "print(r)"
   ]
  },
  {
   "cell_type": "code",
   "execution_count": 10,
   "metadata": {},
   "outputs": [
    {
     "name": "stdout",
     "output_type": "stream",
     "text": [
      "Enter features to guess: \"Features format: [Age, Sex, BP, Cholestrol]\"\n",
      "Middle-age,F,Low,Normal\n",
      "['Drug B']\n"
     ]
    }
   ],
   "source": [
    "#Features format: [Age, Sex, BP, Cholestrol]\n",
    "f = [[0,0,0,1],[0,0,0,0],[1,0,0,1],[2,0,1,1],[2,1,2,1],[2,1,2,0],[1,1,2,0],[0,0,1,1],[0,1,2,1],[2,1,1,1],[0,1,1,0],[1,0,1,0],[1,1,0,1],[2,0,1,0]]\n",
    "l = ['Drug A','Drug A','Drug B','Drug B','Drug B','Drug A', 'Drug B', 'Drug A', 'Drug B', 'Drug B', 'Drug B', 'Drug B', 'Drug B', 'Drug A']\n",
    "c = tree.DecisionTreeClassifier()\n",
    "t = c.fit(f,l)\n",
    "print('Enter features to guess: \"Features format: [Age, Sex, BP, Cholestrol]\"')\n",
    "str1 = input()\n",
    "str1 = str1.split(',')\n",
    "match = {'Young': 0, 'Middle-age': 1, 'Senior': 2, 'F': 0, 'M': 1, 'High': 0, 'Normal': 1, 'Low':2}\n",
    "str2 = []\n",
    "for i in str1:\n",
    "    str2.append(match[i])\n",
    "r = t.predict([str2])\n",
    "print(r)"
   ]
  },
  {
   "cell_type": "code",
   "execution_count": 12,
   "metadata": {},
   "outputs": [],
   "source": [
    "from sklearn.ensemble import RandomForestClassifier"
   ]
  },
  {
   "cell_type": "code",
   "execution_count": null,
   "metadata": {},
   "outputs": [],
   "source": []
  }
 ],
 "metadata": {
  "kernelspec": {
   "display_name": "Python 3",
   "language": "python",
   "name": "python3"
  },
  "language_info": {
   "codemirror_mode": {
    "name": "ipython",
    "version": 3
   },
   "file_extension": ".py",
   "mimetype": "text/x-python",
   "name": "python",
   "nbconvert_exporter": "python",
   "pygments_lexer": "ipython3",
   "version": "3.7.3"
  }
 },
 "nbformat": 4,
 "nbformat_minor": 2
}
